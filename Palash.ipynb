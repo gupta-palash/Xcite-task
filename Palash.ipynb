{
 "cells": [
  {
   "cell_type": "code",
   "execution_count": 22,
   "id": "c0815382",
   "metadata": {},
   "outputs": [
    {
     "name": "stdout",
     "output_type": "stream",
     "text": [
      "Current working directory: C:\\Users\\Palash gupta\\Desktop\\Xcite Internship\n"
     ]
    }
   ],
   "source": [
    "# Python program to explain os.getcwd() method\n",
    "\n",
    "# importing os module\n",
    "import os\n",
    "\n",
    "# Get the current working\n",
    "# directory (CWD)\n",
    "cwd = os.getcwd()\n",
    "\n",
    "# Print the current working\n",
    "# directory (CWD)\n",
    "print(\"Current working directory:\", cwd)\n"
   ]
  },
  {
   "cell_type": "markdown",
   "id": "3c8e70bc",
   "metadata": {},
   "source": [
    "## os.mkdir()\n",
    "\n",
    "\n",
    "os.mkdir() method in Python is used to create a directory named path with the specified numeric mode. This method raises FileExistsError if the directory to be created already exists."
   ]
  },
  {
   "cell_type": "code",
   "execution_count": 23,
   "id": "5a8259f2",
   "metadata": {},
   "outputs": [
    {
     "ename": "FileExistsError",
     "evalue": "[WinError 183] Cannot create a file when that file already exists: 'C:\\\\Users\\\\Palash gupta\\\\Desktop\\\\Xcite'",
     "output_type": "error",
     "traceback": [
      "\u001b[1;31m---------------------------------------------------------------------------\u001b[0m",
      "\u001b[1;31mFileExistsError\u001b[0m                           Traceback (most recent call last)",
      "\u001b[1;32m<ipython-input-23-2c23f822e0fd>\u001b[0m in \u001b[0;36m<module>\u001b[1;34m\u001b[0m\n\u001b[0;32m     16\u001b[0m \u001b[1;31m# 'GeeksForGeeks' in\u001b[0m\u001b[1;33m\u001b[0m\u001b[1;33m\u001b[0m\u001b[1;33m\u001b[0m\u001b[0m\n\u001b[0;32m     17\u001b[0m \u001b[1;31m# '/home / User / Desktop'\u001b[0m\u001b[1;33m\u001b[0m\u001b[1;33m\u001b[0m\u001b[1;33m\u001b[0m\u001b[0m\n\u001b[1;32m---> 18\u001b[1;33m \u001b[0mos\u001b[0m\u001b[1;33m.\u001b[0m\u001b[0mmkdir\u001b[0m\u001b[1;33m(\u001b[0m\u001b[0mpath\u001b[0m\u001b[1;33m)\u001b[0m\u001b[1;33m\u001b[0m\u001b[1;33m\u001b[0m\u001b[0m\n\u001b[0m\u001b[0;32m     19\u001b[0m \u001b[0mprint\u001b[0m\u001b[1;33m(\u001b[0m\u001b[1;34m\"Directory '% s' created\"\u001b[0m \u001b[1;33m%\u001b[0m \u001b[0mdirectory\u001b[0m\u001b[1;33m)\u001b[0m\u001b[1;33m\u001b[0m\u001b[1;33m\u001b[0m\u001b[0m\n\u001b[0;32m     20\u001b[0m \u001b[1;33m\u001b[0m\u001b[0m\n",
      "\u001b[1;31mFileExistsError\u001b[0m: [WinError 183] Cannot create a file when that file already exists: 'C:\\\\Users\\\\Palash gupta\\\\Desktop\\\\Xcite'"
     ]
    }
   ],
   "source": [
    "# Python program to explain os.mkdir() method\n",
    "\n",
    "# importing os module\n",
    "import os\n",
    "\n",
    "# Directory\n",
    "directory = \"Xcite\"\n",
    "\n",
    "# Parent Directory path\n",
    "parent_dir = r\"C:\\Users\\Palash gupta\\Desktop\"\n",
    "\n",
    "# Path\n",
    "path = os.path.join(parent_dir, directory)\n",
    "\n",
    "# Create the directory\n",
    "# 'GeeksForGeeks' in\n",
    "# '/home / User / Desktop'\n",
    "os.mkdir(path)\n",
    "print(\"Directory '% s' created\" % directory)\n",
    "\n"
   ]
  },
  {
   "cell_type": "markdown",
   "id": "8f8b52bc",
   "metadata": {},
   "source": [
    "## Using os.rmdir()\n",
    "\n",
    "os.rmdir() method in Python is used to remove or delete an empty directory."
   ]
  },
  {
   "cell_type": "code",
   "execution_count": 13,
   "id": "a2375d89",
   "metadata": {},
   "outputs": [],
   "source": [
    "# Python program to explain os.rmdir() method\n",
    " \n",
    "# importing os module\n",
    "import os\n",
    "\n",
    "# Directory name\n",
    "directory = \"Xcite\"\n",
    "\n",
    "# Parent Directory\n",
    "parent = r\"C:\\Users\\Palash gupta\\Desktop\"\n",
    "\n",
    "# Path\n",
    "path = os.path.join(parent, directory)\n",
    "\n",
    "# Remove the Directory\n",
    "# \"Geeks\"\n",
    "os.rmdir(path)\n"
   ]
  },
  {
   "cell_type": "markdown",
   "id": "79a99fe0",
   "metadata": {},
   "source": [
    " ## Touch\n",
    " In Python, the Touch module is used to create any file on any specified directory.\n"
   ]
  },
  {
   "cell_type": "code",
   "execution_count": 28,
   "id": "96382217",
   "metadata": {},
   "outputs": [],
   "source": [
    "import touch\n",
    "\n",
    "touch.touch( \"file.csv\")\n"
   ]
  },
  {
   "cell_type": "markdown",
   "id": "91bd4f00",
   "metadata": {},
   "source": [
    "We can also create a multiple files at the same time."
   ]
  },
  {
   "cell_type": "code",
   "execution_count": 29,
   "id": "3ac0af07",
   "metadata": {},
   "outputs": [],
   "source": [
    "import touch\n",
    "\n",
    "touch.touch( [\"file1.csv\", \"file2.csv\"])"
   ]
  },
  {
   "cell_type": "markdown",
   "id": "80171d4b",
   "metadata": {},
   "source": [
    "## Cat "
   ]
  },
  {
   "cell_type": "code",
   "execution_count": null,
   "id": "cce0a4e5",
   "metadata": {},
   "outputs": [],
   "source": []
  },
  {
   "cell_type": "markdown",
   "id": "70809995",
   "metadata": {},
   "source": [
    "## Echo"
   ]
  },
  {
   "cell_type": "code",
   "execution_count": 35,
   "id": "66203199",
   "metadata": {},
   "outputs": [
    {
     "name": "stdout",
     "output_type": "stream",
     "text": [
      "-e \"Geeks \\bfor \\bGeeks\"\n"
     ]
    }
   ],
   "source": [
    "\n",
    "\n",
    "echo -e \"Geeks \\bfor \\bGeeks\""
   ]
  },
  {
   "cell_type": "code",
   "execution_count": null,
   "id": "32b6a274",
   "metadata": {},
   "outputs": [],
   "source": []
  }
 ],
 "metadata": {
  "kernelspec": {
   "display_name": "Python 3",
   "language": "python",
   "name": "python3"
  },
  "language_info": {
   "codemirror_mode": {
    "name": "ipython",
    "version": 3
   },
   "file_extension": ".py",
   "mimetype": "text/x-python",
   "name": "python",
   "nbconvert_exporter": "python",
   "pygments_lexer": "ipython3",
   "version": "3.8.8"
  }
 },
 "nbformat": 4,
 "nbformat_minor": 5
}
