{
 "cells": [
  {
   "cell_type": "markdown",
   "metadata": {},
   "source": [
    "# Building a Simple Chatbot from Scratch in Python (using NLTK)\n",
    "\n",
    "\n",
    "History of chatbots dates back to 1966 when a computer program called ELIZA was invented by Weizenbaum. It imitated the language of a psychotherapist from only 200 lines of code. You can still converse with it here: [Eliza](http://psych.fullerton.edu/mbirnbaum/psych101/Eliza.htm?utm_source=ubisend.com&utm_medium=blog-link&utm_campaign=ubisend). \n",
    "\n",
    "On similar lines let's create a very basic chatbot utlising the Python's NLTK library.It's a very simple bot with hardly any cognitive skills,but still a good way to get into NLP and get to know about chatbots.\n"
   ]
  },
  {
   "cell_type": "markdown",
   "metadata": {},
   "source": [
    "## Import necessary libraries"
   ]
  },
  {
   "cell_type": "code",
   "execution_count": 1,
   "metadata": {},
   "outputs": [],
   "source": [
    "import io\n",
    "import random\n",
    "import string # to process standard python strings\n",
    "import warnings\n",
    "import numpy as np\n",
    "from sklearn.feature_extraction.text import TfidfVectorizer\n",
    "from sklearn.metrics.pairwise import cosine_similarity\n",
    "import warnings\n",
    "warnings.filterwarnings('ignore')"
   ]
  },
  {
   "cell_type": "markdown",
   "metadata": {},
   "source": [
    "### Installing NLTK Packages\n",
    "\n",
    "\n"
   ]
  },
  {
   "cell_type": "code",
   "execution_count": 2,
   "metadata": {},
   "outputs": [],
   "source": [
    "import nltk\n",
    "from nltk.stem import WordNetLemmatizer\n",
    "#nltk.download('popular', quiet=True) # for downloading packages\n",
    "#nltk.download('punkt') # first-time use only\n",
    "#nltk.download('wordnet') # first-time use only"
   ]
  },
  {
   "cell_type": "markdown",
   "metadata": {},
   "source": [
    "## Reading in the corpus\n",
    "\n",
    "For our example,we will be using the Wikipedia page for chatbots as our corpus. Copy the contents from the page and place it in a text file named ‘chatbot.txt’."
   ]
  },
  {
   "cell_type": "code",
   "execution_count": 3,
   "metadata": {},
   "outputs": [],
   "source": [
    "f=open('chatbot.txt','r',errors = 'ignore')\n",
    "raw=f.read()\n",
    "raw = raw.lower()# converts to lowercase"
   ]
  },
  {
   "cell_type": "markdown",
   "metadata": {},
   "source": [
    "## Tokenisation"
   ]
  },
  {
   "cell_type": "code",
   "execution_count": 4,
   "metadata": {},
   "outputs": [],
   "source": [
    "sent_tokens = nltk.sent_tokenize(raw)# converts to list of sentences \n",
    "word_tokens = nltk.word_tokenize(raw)# converts to list of words"
   ]
  },
  {
   "cell_type": "code",
   "execution_count": 5,
   "metadata": {},
   "outputs": [
    {
     "name": "stdout",
     "output_type": "stream",
     "text": [
      "['a chatbot (also known as a talkbot, chatterbot, bot, im bot, interactive agent, or artificial conversational entity) is a computer program or an artificial intelligence which conducts a conversation via auditory or textual methods.', 'such programs are often designed to convincingly simulate how a human would behave as a conversational partner, thereby passing the turing test.', 'chatbots are typically used in dialog systems for various practical purposes including customer service or information acquisition.', 'some chatterbots use sophisticated natural language processing systems, but many simpler systems scan for keywords within the input, then pull a reply with the most matching keywords, or the most similar wording pattern, from a database.', 'the term \"chatterbot\" was originally coined by michael mauldin (creator of the first verbot, julia) in 1994 to describe these conversational programs.today, most chatbots are either accessed via virtual assistants such as google assistant and amazon alexa, via messaging apps such as facebook messenger or wechat, or via individual organizations\\' apps and websites.', 'chatbots can be classified into usage categories such as conversational commerce (e-commerce via chat), analytics, communication, customer support, design, developer tools, education, entertainment, finance, food, games, health, hr, marketing, news, personal, productivity, shopping, social, sports, travel and utilities.', 'background\\nin 1950, alan turing\\'s famous article \"computing machinery and intelligence\" was published, which proposed what is now called the turing test as a criterion of intelligence.', 'this criterion depends on the ability of a computer program to impersonate a human in a real-time written conversation with a human judge, sufficiently well that the judge is unable to distinguish reliably—on the basis of the conversational content alone—between the program and a real human.', \"the notoriety of turing's proposed test stimulated great interest in joseph weizenbaum's program eliza, published in 1966, which seemed to be able to fool users into believing that they were conversing with a real human.\", 'however weizenbaum himself did not claim that eliza was genuinely intelligent, and the introduction to his paper presented it more as a debunking exercise:\\n\\n[in] artificial intelligence ... machines are made to behave in wondrous ways, often sufficient to dazzle even the most experienced observer.', 'but once a particular program is unmasked, once its inner workings are explained ... its magic crumbles away; it stands revealed as a mere collection of procedures ... the observer says to himself \"i could have written that\".', 'with that thought he moves the program in question from the shelf marked \"intelligent\", to that reserved for curios ... the object of this paper is to cause just such a re-evaluation of the program about to be \"explained\".', 'few programs ever needed it more.', \"eliza's key method of operation (copied by chatbot designers ever since) involves the recognition of cue words or phrases in the input, and the output of corresponding pre-prepared or pre-programmed responses that can move the conversation forward in an apparently meaningful way (e.g.\", \"by responding to any input that contains the word 'mother' with 'tell me more about your family').thus an illusion of understanding is generated, even though the processing involved has been merely superficial.\", 'eliza showed that such an illusion is surprisingly easy to generate, because human judges are so ready to give the benefit of the doubt when conversational responses are capable of being interpreted as \"intelligent\".', \"interface designers have come to appreciate that humans' readiness to interpret computer output as genuinely conversational—even when it is actually based on rather simple pattern-matching—can be exploited for useful purposes.\", 'most people prefer to engage with programs that are human-like, and this gives chatbot-style techniques a potentially useful role in interactive systems that need to elicit information from users, as long as that information is relatively straightforward and falls into predictable categories.', 'thus, for example, online help systems can usefully employ chatbot techniques to identify the area of help that users require, potentially providing a \"friendlier\" interface than a more formal search or menu system.', 'this sort of usage holds the prospect of moving chatbot technology from weizenbaum\\'s \"shelf ... reserved for curios\" to that marked \"genuinely useful computational methods\".', 'development\\nthe classic historic early chatbots are eliza (1966) and parry (1972).more recent notable programs include a.l.i.c.e., jabberwacky and d.u.d.e (agence nationale de la recherche and cnrs 2006).', 'while eliza and parry were used exclusively to simulate typed conversation, many chatbots now include functional features such as games and web searching abilities.', \"in 1984, a book called the policeman's beard is half constructed was published, allegedly written by the chatbot racter (though the program as released would not have been capable of doing so).\", 'one pertinent field of ai research is natural language processing.', 'usually, weak ai fields employ specialized software or programming languages created specifically for the narrow function required.', 'for example, a.l.i.c.e.', 'uses a markup language called aiml, which is specific to its function as a conversational agent, and has since been adopted by various other developers of, so called, alicebots.', 'nevertheless, a.l.i.c.e.', 'is still purely based on pattern matching techniques without any reasoning capabilities, the same technique eliza was using back in 1966. this is not strong ai, which would require sapience and logical reasoning abilities.', 'jabberwacky learns new responses and context based on real-time user interactions, rather than being driven from a static database.', 'some more recent chatbots also combine real-time learning with evolutionary algorithms that optimise their ability to communicate based on each conversation held.', 'still, there is currently no general purpose conversational artificial intelligence, and some software developers focus on the practical aspect, information retrieval.', 'chatbot competitions focus on the turing test or more specific goals.', 'two such annual contests are the loebner prize and the chatterbox challenge (offline since 2015, materials can still be found from web archives).', 'according to forrester (2015), ai will replace 16 percent of american jobs by the end of the decade.chatbots have been used in applications such as customer service, sales and product education.', 'however, a study conducted by narrative science in 2015 found that 80 percent of their respondents believe ai improves worker performance and creates jobs.', \"[citation needed]\\n\\napplication\\nsee also: virtual assistant\\n\\naeromexico airline chatbot running on facebook messenger, march 2018\\nmessaging apps\\nmany companies' chatbots run on messaging apps like facebook messenger (since 2016), wechat (since 2013),whatsapp, livechat, kik, slack, line, telegram, or simply via sms.\", 'they are used for b2c customer service, sales and marketing.', 'in 2016, facebook messenger allowed developers to place chatbots on their platform.', 'there were 30,000 bots created for messenger in the first six months, rising to 100,000 by september 2017.\\n\\nsince september 2017, this has also been as part of a pilot program on whatsapp.', 'airlines klm and aeroméxico both announced their participation in the testing;both airlines had previously launched customer services on the facebook messenger platform.', \"the bots usually appear as one of the user's contacts, but can sometimes act as participants in a group chat.\", 'many banks and insurers, media and e-commerce companies, airlines and hotel chains, retailers, health care providers, government entities and restaurant chains have used chatbots to answer simple questions, increase customer engagement,for promotion, and to offer additional ways to order from them.', 'a 2017 study showed 4% of companies used chatbots.according to a 2016 study, 80% of businesses said they intended to have one by 2020.\\n\\nas part of company apps and websites\\nprevious generations of chatbots were present on company websites, e.g.', 'ask jenn from alaska airlines which debuted in 2008 or expedia\\'s virtual customer service agent which launched in 2011.the newer generation of chatbots includes ibm watson-powered \"rocky\", introduced in february 2017 by the new york city-based e-commerce company rare carat to provide information to prospective diamond buyers.', 'company internal platforms\\nother companies explore ways they can use chatbots internally, for example for customer support, human resources, or even in internet-of-things (iot) projects.', 'overstock.com, for one, has reportedly launched a chatbot named mila to automate certain simple yet time-consuming processes when requesting for a sick leave.other large companies such as lloyds banking group, royal bank of scotland, renault and citroën are now using automated online assistants instead of call centres with humans to provide a first point of contact.', 'a saas chatbot business ecosystem has been steadily growing since the f8 conference when zuckerberg unveiled that messenger would allow chatbots into the app.', 'toys\\nchatbots have also been incorporated into devices not primarily meant for computing such as toys.', \"hello barbie is an internet-connected version of the doll that uses a chatbot provided by the company toytalk,which previously used the chatbot for a range of smartphone-based characters for children.these characters' behaviors are constrained by a set of rules that in effect emulate a particular character and produce a storyline.\", \"ibm's watson computer has been used as the basis for chatbot-based educational toys for companies such as cognitoys intended to interact with children for educational purposes.\", 'chatbot creation\\nthe process of creating a chatbot follows a pattern similar to the development of a web page or a mobile app.', 'it can be divided into design, building, analytics and maintenance.', 'design\\nthe chatbot design is the process that defines the interaction between the user and the chatbot.the chatbot designer will define the chatbot personality, the questions that will be asked to the users, and the overall interaction.it can be viewed as a subset of the conversational design.', 'in order to speed up this process, designers can use dedicated chatbot design tools, that allow for immediate preview, team collaboration and video export.an important part of the chatbot design is also centered around user testing.', 'user testing can be performed following the same principles that guide the user testing of graphical interfaces.', \"building\\nthe process of building a chatbot can be divided into two main tasks: understanding the user's intent and producing the correct answer.\", 'the first task involves understanding the user input.', 'in order to properly understand a user input in a free text form, a natural language processing engine can be used.the second task may involve different approaches depending on the type of the response that the chatbot will generate.', 'analytics\\nthe usage of the chatbot can be monitored in order to spot potential flaws or problems.', 'it can also provide useful insights that can improve the final user experience.', 'maintenance\\nto keep chatbots up to speed with changing company products and services, traditional chatbot development platforms require ongoing maintenance.', 'this can either be in the form of an ongoing service provider or for larger enterprises in the form of an in-house chatbot training team.to eliminate these costs, some startups are experimenting with artificial intelligence to develop self-learning chatbots, particularly in customer service applications.', 'chatbot development platforms\\nthe process of building, testing and deploying chatbots can be done on cloud based chatbot development platforms offered by cloud platform as a service (paas) providers such as yekaliva, oracle cloud platform, snatchbot and ibm watson.these cloud platforms provide natural language processing, artificial intelligence and mobile backend as a service for chatbot development.', 'apis\\nthere are many apis available for building your own chatbots, such as aarc.', 'malicious use\\nmalicious chatbots are frequently used to fill chat rooms with spam and advertisements, by mimicking human behaviour and conversations or to entice people into revealing personal information, such as bank account numbers.', 'they are commonly found on yahoo!', 'messenger, windows live messenger, aol instant messenger and other instant messaging protocols.', \"there has also been a published report of a chatbot used in a fake personal ad on a dating service's website.\"]\n"
     ]
    }
   ],
   "source": [
    "print(sent_tokens)"
   ]
  },
  {
   "cell_type": "code",
   "execution_count": 6,
   "metadata": {},
   "outputs": [
    {
     "name": "stdout",
     "output_type": "stream",
     "text": [
      "['a', 'chatbot', '(', 'also', 'known', 'as', 'a', 'talkbot', ',', 'chatterbot', ',', 'bot', ',', 'im', 'bot', ',', 'interactive', 'agent', ',', 'or', 'artificial', 'conversational', 'entity', ')', 'is', 'a', 'computer', 'program', 'or', 'an', 'artificial', 'intelligence', 'which', 'conducts', 'a', 'conversation', 'via', 'auditory', 'or', 'textual', 'methods', '.', 'such', 'programs', 'are', 'often', 'designed', 'to', 'convincingly', 'simulate', 'how', 'a', 'human', 'would', 'behave', 'as', 'a', 'conversational', 'partner', ',', 'thereby', 'passing', 'the', 'turing', 'test', '.', 'chatbots', 'are', 'typically', 'used', 'in', 'dialog', 'systems', 'for', 'various', 'practical', 'purposes', 'including', 'customer', 'service', 'or', 'information', 'acquisition', '.', 'some', 'chatterbots', 'use', 'sophisticated', 'natural', 'language', 'processing', 'systems', ',', 'but', 'many', 'simpler', 'systems', 'scan', 'for', 'keywords', 'within', 'the', 'input', ',', 'then', 'pull', 'a', 'reply', 'with', 'the', 'most', 'matching', 'keywords', ',', 'or', 'the', 'most', 'similar', 'wording', 'pattern', ',', 'from', 'a', 'database', '.', 'the', 'term', '``', 'chatterbot', \"''\", 'was', 'originally', 'coined', 'by', 'michael', 'mauldin', '(', 'creator', 'of', 'the', 'first', 'verbot', ',', 'julia', ')', 'in', '1994', 'to', 'describe', 'these', 'conversational', 'programs.today', ',', 'most', 'chatbots', 'are', 'either', 'accessed', 'via', 'virtual', 'assistants', 'such', 'as', 'google', 'assistant', 'and', 'amazon', 'alexa', ',', 'via', 'messaging', 'apps', 'such', 'as', 'facebook', 'messenger', 'or', 'wechat', ',', 'or', 'via', 'individual', 'organizations', \"'\", 'apps', 'and', 'websites', '.', 'chatbots', 'can', 'be', 'classified', 'into', 'usage', 'categories', 'such', 'as', 'conversational', 'commerce', '(', 'e-commerce', 'via', 'chat', ')', ',', 'analytics', ',', 'communication', ',', 'customer', 'support', ',', 'design', ',', 'developer', 'tools', ',', 'education', ',', 'entertainment', ',', 'finance', ',', 'food', ',', 'games', ',', 'health', ',', 'hr', ',', 'marketing', ',', 'news', ',', 'personal', ',', 'productivity', ',', 'shopping', ',', 'social', ',', 'sports', ',', 'travel', 'and', 'utilities', '.', 'background', 'in', '1950', ',', 'alan', 'turing', \"'s\", 'famous', 'article', '``', 'computing', 'machinery', 'and', 'intelligence', \"''\", 'was', 'published', ',', 'which', 'proposed', 'what', 'is', 'now', 'called', 'the', 'turing', 'test', 'as', 'a', 'criterion', 'of', 'intelligence', '.', 'this', 'criterion', 'depends', 'on', 'the', 'ability', 'of', 'a', 'computer', 'program', 'to', 'impersonate', 'a', 'human', 'in', 'a', 'real-time', 'written', 'conversation', 'with', 'a', 'human', 'judge', ',', 'sufficiently', 'well', 'that', 'the', 'judge', 'is', 'unable', 'to', 'distinguish', 'reliably—on', 'the', 'basis', 'of', 'the', 'conversational', 'content', 'alone—between', 'the', 'program', 'and', 'a', 'real', 'human', '.', 'the', 'notoriety', 'of', 'turing', \"'s\", 'proposed', 'test', 'stimulated', 'great', 'interest', 'in', 'joseph', 'weizenbaum', \"'s\", 'program', 'eliza', ',', 'published', 'in', '1966', ',', 'which', 'seemed', 'to', 'be', 'able', 'to', 'fool', 'users', 'into', 'believing', 'that', 'they', 'were', 'conversing', 'with', 'a', 'real', 'human', '.', 'however', 'weizenbaum', 'himself', 'did', 'not', 'claim', 'that', 'eliza', 'was', 'genuinely', 'intelligent', ',', 'and', 'the', 'introduction', 'to', 'his', 'paper', 'presented', 'it', 'more', 'as', 'a', 'debunking', 'exercise', ':', '[', 'in', ']', 'artificial', 'intelligence', '...', 'machines', 'are', 'made', 'to', 'behave', 'in', 'wondrous', 'ways', ',', 'often', 'sufficient', 'to', 'dazzle', 'even', 'the', 'most', 'experienced', 'observer', '.', 'but', 'once', 'a', 'particular', 'program', 'is', 'unmasked', ',', 'once', 'its', 'inner', 'workings', 'are', 'explained', '...', 'its', 'magic', 'crumbles', 'away', ';', 'it', 'stands', 'revealed', 'as', 'a', 'mere', 'collection', 'of', 'procedures', '...', 'the', 'observer', 'says', 'to', 'himself', '``', 'i', 'could', 'have', 'written', 'that', \"''\", '.', 'with', 'that', 'thought', 'he', 'moves', 'the', 'program', 'in', 'question', 'from', 'the', 'shelf', 'marked', '``', 'intelligent', \"''\", ',', 'to', 'that', 'reserved', 'for', 'curios', '...', 'the', 'object', 'of', 'this', 'paper', 'is', 'to', 'cause', 'just', 'such', 'a', 're-evaluation', 'of', 'the', 'program', 'about', 'to', 'be', '``', 'explained', \"''\", '.', 'few', 'programs', 'ever', 'needed', 'it', 'more', '.', 'eliza', \"'s\", 'key', 'method', 'of', 'operation', '(', 'copied', 'by', 'chatbot', 'designers', 'ever', 'since', ')', 'involves', 'the', 'recognition', 'of', 'cue', 'words', 'or', 'phrases', 'in', 'the', 'input', ',', 'and', 'the', 'output', 'of', 'corresponding', 'pre-prepared', 'or', 'pre-programmed', 'responses', 'that', 'can', 'move', 'the', 'conversation', 'forward', 'in', 'an', 'apparently', 'meaningful', 'way', '(', 'e.g', '.', 'by', 'responding', 'to', 'any', 'input', 'that', 'contains', 'the', 'word', \"'mother\", \"'\", 'with', \"'tell\", 'me', 'more', 'about', 'your', 'family', \"'\", ')', '.thus', 'an', 'illusion', 'of', 'understanding', 'is', 'generated', ',', 'even', 'though', 'the', 'processing', 'involved', 'has', 'been', 'merely', 'superficial', '.', 'eliza', 'showed', 'that', 'such', 'an', 'illusion', 'is', 'surprisingly', 'easy', 'to', 'generate', ',', 'because', 'human', 'judges', 'are', 'so', 'ready', 'to', 'give', 'the', 'benefit', 'of', 'the', 'doubt', 'when', 'conversational', 'responses', 'are', 'capable', 'of', 'being', 'interpreted', 'as', '``', 'intelligent', \"''\", '.', 'interface', 'designers', 'have', 'come', 'to', 'appreciate', 'that', 'humans', \"'\", 'readiness', 'to', 'interpret', 'computer', 'output', 'as', 'genuinely', 'conversational—even', 'when', 'it', 'is', 'actually', 'based', 'on', 'rather', 'simple', 'pattern-matching—can', 'be', 'exploited', 'for', 'useful', 'purposes', '.', 'most', 'people', 'prefer', 'to', 'engage', 'with', 'programs', 'that', 'are', 'human-like', ',', 'and', 'this', 'gives', 'chatbot-style', 'techniques', 'a', 'potentially', 'useful', 'role', 'in', 'interactive', 'systems', 'that', 'need', 'to', 'elicit', 'information', 'from', 'users', ',', 'as', 'long', 'as', 'that', 'information', 'is', 'relatively', 'straightforward', 'and', 'falls', 'into', 'predictable', 'categories', '.', 'thus', ',', 'for', 'example', ',', 'online', 'help', 'systems', 'can', 'usefully', 'employ', 'chatbot', 'techniques', 'to', 'identify', 'the', 'area', 'of', 'help', 'that', 'users', 'require', ',', 'potentially', 'providing', 'a', '``', 'friendlier', \"''\", 'interface', 'than', 'a', 'more', 'formal', 'search', 'or', 'menu', 'system', '.', 'this', 'sort', 'of', 'usage', 'holds', 'the', 'prospect', 'of', 'moving', 'chatbot', 'technology', 'from', 'weizenbaum', \"'s\", '``', 'shelf', '...', 'reserved', 'for', 'curios', \"''\", 'to', 'that', 'marked', '``', 'genuinely', 'useful', 'computational', 'methods', \"''\", '.', 'development', 'the', 'classic', 'historic', 'early', 'chatbots', 'are', 'eliza', '(', '1966', ')', 'and', 'parry', '(', '1972', ')', '.more', 'recent', 'notable', 'programs', 'include', 'a.l.i.c.e.', ',', 'jabberwacky', 'and', 'd.u.d.e', '(', 'agence', 'nationale', 'de', 'la', 'recherche', 'and', 'cnrs', '2006', ')', '.', 'while', 'eliza', 'and', 'parry', 'were', 'used', 'exclusively', 'to', 'simulate', 'typed', 'conversation', ',', 'many', 'chatbots', 'now', 'include', 'functional', 'features', 'such', 'as', 'games', 'and', 'web', 'searching', 'abilities', '.', 'in', '1984', ',', 'a', 'book', 'called', 'the', 'policeman', \"'s\", 'beard', 'is', 'half', 'constructed', 'was', 'published', ',', 'allegedly', 'written', 'by', 'the', 'chatbot', 'racter', '(', 'though', 'the', 'program', 'as', 'released', 'would', 'not', 'have', 'been', 'capable', 'of', 'doing', 'so', ')', '.', 'one', 'pertinent', 'field', 'of', 'ai', 'research', 'is', 'natural', 'language', 'processing', '.', 'usually', ',', 'weak', 'ai', 'fields', 'employ', 'specialized', 'software', 'or', 'programming', 'languages', 'created', 'specifically', 'for', 'the', 'narrow', 'function', 'required', '.', 'for', 'example', ',', 'a.l.i.c.e', '.', 'uses', 'a', 'markup', 'language', 'called', 'aiml', ',', 'which', 'is', 'specific', 'to', 'its', 'function', 'as', 'a', 'conversational', 'agent', ',', 'and', 'has', 'since', 'been', 'adopted', 'by', 'various', 'other', 'developers', 'of', ',', 'so', 'called', ',', 'alicebots', '.', 'nevertheless', ',', 'a.l.i.c.e', '.', 'is', 'still', 'purely', 'based', 'on', 'pattern', 'matching', 'techniques', 'without', 'any', 'reasoning', 'capabilities', ',', 'the', 'same', 'technique', 'eliza', 'was', 'using', 'back', 'in', '1966.', 'this', 'is', 'not', 'strong', 'ai', ',', 'which', 'would', 'require', 'sapience', 'and', 'logical', 'reasoning', 'abilities', '.', 'jabberwacky', 'learns', 'new', 'responses', 'and', 'context', 'based', 'on', 'real-time', 'user', 'interactions', ',', 'rather', 'than', 'being', 'driven', 'from', 'a', 'static', 'database', '.', 'some', 'more', 'recent', 'chatbots', 'also', 'combine', 'real-time', 'learning', 'with', 'evolutionary', 'algorithms', 'that', 'optimise', 'their', 'ability', 'to', 'communicate', 'based', 'on', 'each', 'conversation', 'held', '.', 'still', ',', 'there', 'is', 'currently', 'no', 'general', 'purpose', 'conversational', 'artificial', 'intelligence', ',', 'and', 'some', 'software', 'developers', 'focus', 'on', 'the', 'practical', 'aspect', ',', 'information', 'retrieval', '.', 'chatbot', 'competitions', 'focus', 'on', 'the', 'turing', 'test', 'or', 'more', 'specific', 'goals', '.', 'two', 'such', 'annual', 'contests', 'are', 'the', 'loebner', 'prize', 'and', 'the', 'chatterbox', 'challenge', '(', 'offline', 'since', '2015', ',', 'materials', 'can', 'still', 'be', 'found', 'from', 'web', 'archives', ')', '.', 'according', 'to', 'forrester', '(', '2015', ')', ',', 'ai', 'will', 'replace', '16', 'percent', 'of', 'american', 'jobs', 'by', 'the', 'end', 'of', 'the', 'decade.chatbots', 'have', 'been', 'used', 'in', 'applications', 'such', 'as', 'customer', 'service', ',', 'sales', 'and', 'product', 'education', '.', 'however', ',', 'a', 'study', 'conducted', 'by', 'narrative', 'science', 'in', '2015', 'found', 'that', '80', 'percent', 'of', 'their', 'respondents', 'believe', 'ai', 'improves', 'worker', 'performance', 'and', 'creates', 'jobs', '.', '[', 'citation', 'needed', ']', 'application', 'see', 'also', ':', 'virtual', 'assistant', 'aeromexico', 'airline', 'chatbot', 'running', 'on', 'facebook', 'messenger', ',', 'march', '2018', 'messaging', 'apps', 'many', 'companies', \"'\", 'chatbots', 'run', 'on', 'messaging', 'apps', 'like', 'facebook', 'messenger', '(', 'since', '2016', ')', ',', 'wechat', '(', 'since', '2013', ')', ',', 'whatsapp', ',', 'livechat', ',', 'kik', ',', 'slack', ',', 'line', ',', 'telegram', ',', 'or', 'simply', 'via', 'sms', '.', 'they', 'are', 'used', 'for', 'b2c', 'customer', 'service', ',', 'sales', 'and', 'marketing', '.', 'in', '2016', ',', 'facebook', 'messenger', 'allowed', 'developers', 'to', 'place', 'chatbots', 'on', 'their', 'platform', '.', 'there', 'were', '30,000', 'bots', 'created', 'for', 'messenger', 'in', 'the', 'first', 'six', 'months', ',', 'rising', 'to', '100,000', 'by', 'september', '2017.', 'since', 'september', '2017', ',', 'this', 'has', 'also', 'been', 'as', 'part', 'of', 'a', 'pilot', 'program', 'on', 'whatsapp', '.', 'airlines', 'klm', 'and', 'aeroméxico', 'both', 'announced', 'their', 'participation', 'in', 'the', 'testing', ';', 'both', 'airlines', 'had', 'previously', 'launched', 'customer', 'services', 'on', 'the', 'facebook', 'messenger', 'platform', '.', 'the', 'bots', 'usually', 'appear', 'as', 'one', 'of', 'the', 'user', \"'s\", 'contacts', ',', 'but', 'can', 'sometimes', 'act', 'as', 'participants', 'in', 'a', 'group', 'chat', '.', 'many', 'banks', 'and', 'insurers', ',', 'media', 'and', 'e-commerce', 'companies', ',', 'airlines', 'and', 'hotel', 'chains', ',', 'retailers', ',', 'health', 'care', 'providers', ',', 'government', 'entities', 'and', 'restaurant', 'chains', 'have', 'used', 'chatbots', 'to', 'answer', 'simple', 'questions', ',', 'increase', 'customer', 'engagement', ',', 'for', 'promotion', ',', 'and', 'to', 'offer', 'additional', 'ways', 'to', 'order', 'from', 'them', '.', 'a', '2017', 'study', 'showed', '4', '%', 'of', 'companies', 'used', 'chatbots.according', 'to', 'a', '2016', 'study', ',', '80', '%', 'of', 'businesses', 'said', 'they', 'intended', 'to', 'have', 'one', 'by', '2020.', 'as', 'part', 'of', 'company', 'apps', 'and', 'websites', 'previous', 'generations', 'of', 'chatbots', 'were', 'present', 'on', 'company', 'websites', ',', 'e.g', '.', 'ask', 'jenn', 'from', 'alaska', 'airlines', 'which', 'debuted', 'in', '2008', 'or', 'expedia', \"'s\", 'virtual', 'customer', 'service', 'agent', 'which', 'launched', 'in', '2011.the', 'newer', 'generation', 'of', 'chatbots', 'includes', 'ibm', 'watson-powered', '``', 'rocky', \"''\", ',', 'introduced', 'in', 'february', '2017', 'by', 'the', 'new', 'york', 'city-based', 'e-commerce', 'company', 'rare', 'carat', 'to', 'provide', 'information', 'to', 'prospective', 'diamond', 'buyers', '.', 'company', 'internal', 'platforms', 'other', 'companies', 'explore', 'ways', 'they', 'can', 'use', 'chatbots', 'internally', ',', 'for', 'example', 'for', 'customer', 'support', ',', 'human', 'resources', ',', 'or', 'even', 'in', 'internet-of-things', '(', 'iot', ')', 'projects', '.', 'overstock.com', ',', 'for', 'one', ',', 'has', 'reportedly', 'launched', 'a', 'chatbot', 'named', 'mila', 'to', 'automate', 'certain', 'simple', 'yet', 'time-consuming', 'processes', 'when', 'requesting', 'for', 'a', 'sick', 'leave.other', 'large', 'companies', 'such', 'as', 'lloyds', 'banking', 'group', ',', 'royal', 'bank', 'of', 'scotland', ',', 'renault', 'and', 'citroën', 'are', 'now', 'using', 'automated', 'online', 'assistants', 'instead', 'of', 'call', 'centres', 'with', 'humans', 'to', 'provide', 'a', 'first', 'point', 'of', 'contact', '.', 'a', 'saas', 'chatbot', 'business', 'ecosystem', 'has', 'been', 'steadily', 'growing', 'since', 'the', 'f8', 'conference', 'when', 'zuckerberg', 'unveiled', 'that', 'messenger', 'would', 'allow', 'chatbots', 'into', 'the', 'app', '.', 'toys', 'chatbots', 'have', 'also', 'been', 'incorporated', 'into', 'devices', 'not', 'primarily', 'meant', 'for', 'computing', 'such', 'as', 'toys', '.', 'hello', 'barbie', 'is', 'an', 'internet-connected', 'version', 'of', 'the', 'doll', 'that', 'uses', 'a', 'chatbot', 'provided', 'by', 'the', 'company', 'toytalk', ',', 'which', 'previously', 'used', 'the', 'chatbot', 'for', 'a', 'range', 'of', 'smartphone-based', 'characters', 'for', 'children.these', 'characters', \"'\", 'behaviors', 'are', 'constrained', 'by', 'a', 'set', 'of', 'rules', 'that', 'in', 'effect', 'emulate', 'a', 'particular', 'character', 'and', 'produce', 'a', 'storyline', '.', 'ibm', \"'s\", 'watson', 'computer', 'has', 'been', 'used', 'as', 'the', 'basis', 'for', 'chatbot-based', 'educational', 'toys', 'for', 'companies', 'such', 'as', 'cognitoys', 'intended', 'to', 'interact', 'with', 'children', 'for', 'educational', 'purposes', '.', 'chatbot', 'creation', 'the', 'process', 'of', 'creating', 'a', 'chatbot', 'follows', 'a', 'pattern', 'similar', 'to', 'the', 'development', 'of', 'a', 'web', 'page', 'or', 'a', 'mobile', 'app', '.', 'it', 'can', 'be', 'divided', 'into', 'design', ',', 'building', ',', 'analytics', 'and', 'maintenance', '.', 'design', 'the', 'chatbot', 'design', 'is', 'the', 'process', 'that', 'defines', 'the', 'interaction', 'between', 'the', 'user', 'and', 'the', 'chatbot.the', 'chatbot', 'designer', 'will', 'define', 'the', 'chatbot', 'personality', ',', 'the', 'questions', 'that', 'will', 'be', 'asked', 'to', 'the', 'users', ',', 'and', 'the', 'overall', 'interaction.it', 'can', 'be', 'viewed', 'as', 'a', 'subset', 'of', 'the', 'conversational', 'design', '.', 'in', 'order', 'to', 'speed', 'up', 'this', 'process', ',', 'designers', 'can', 'use', 'dedicated', 'chatbot', 'design', 'tools', ',', 'that', 'allow', 'for', 'immediate', 'preview', ',', 'team', 'collaboration', 'and', 'video', 'export.an', 'important', 'part', 'of', 'the', 'chatbot', 'design', 'is', 'also', 'centered', 'around', 'user', 'testing', '.', 'user', 'testing', 'can', 'be', 'performed', 'following', 'the', 'same', 'principles', 'that', 'guide', 'the', 'user', 'testing', 'of', 'graphical', 'interfaces', '.', 'building', 'the', 'process', 'of', 'building', 'a', 'chatbot', 'can', 'be', 'divided', 'into', 'two', 'main', 'tasks', ':', 'understanding', 'the', 'user', \"'s\", 'intent', 'and', 'producing', 'the', 'correct', 'answer', '.', 'the', 'first', 'task', 'involves', 'understanding', 'the', 'user', 'input', '.', 'in', 'order', 'to', 'properly', 'understand', 'a', 'user', 'input', 'in', 'a', 'free', 'text', 'form', ',', 'a', 'natural', 'language', 'processing', 'engine', 'can', 'be', 'used.the', 'second', 'task', 'may', 'involve', 'different', 'approaches', 'depending', 'on', 'the', 'type', 'of', 'the', 'response', 'that', 'the', 'chatbot', 'will', 'generate', '.', 'analytics', 'the', 'usage', 'of', 'the', 'chatbot', 'can', 'be', 'monitored', 'in', 'order', 'to', 'spot', 'potential', 'flaws', 'or', 'problems', '.', 'it', 'can', 'also', 'provide', 'useful', 'insights', 'that', 'can', 'improve', 'the', 'final', 'user', 'experience', '.', 'maintenance', 'to', 'keep', 'chatbots', 'up', 'to', 'speed', 'with', 'changing', 'company', 'products', 'and', 'services', ',', 'traditional', 'chatbot', 'development', 'platforms', 'require', 'ongoing', 'maintenance', '.', 'this', 'can', 'either', 'be', 'in', 'the', 'form', 'of', 'an', 'ongoing', 'service', 'provider', 'or', 'for', 'larger', 'enterprises', 'in', 'the', 'form', 'of', 'an', 'in-house', 'chatbot', 'training', 'team.to', 'eliminate', 'these', 'costs', ',', 'some', 'startups', 'are', 'experimenting', 'with', 'artificial', 'intelligence', 'to', 'develop', 'self-learning', 'chatbots', ',', 'particularly', 'in', 'customer', 'service', 'applications', '.', 'chatbot', 'development', 'platforms', 'the', 'process', 'of', 'building', ',', 'testing', 'and', 'deploying', 'chatbots', 'can', 'be', 'done', 'on', 'cloud', 'based', 'chatbot', 'development', 'platforms', 'offered', 'by', 'cloud', 'platform', 'as', 'a', 'service', '(', 'paas', ')', 'providers', 'such', 'as', 'yekaliva', ',', 'oracle', 'cloud', 'platform', ',', 'snatchbot', 'and', 'ibm', 'watson.these', 'cloud', 'platforms', 'provide', 'natural', 'language', 'processing', ',', 'artificial', 'intelligence', 'and', 'mobile', 'backend', 'as', 'a', 'service', 'for', 'chatbot', 'development', '.', 'apis', 'there', 'are', 'many', 'apis', 'available', 'for', 'building', 'your', 'own', 'chatbots', ',', 'such', 'as', 'aarc', '.', 'malicious', 'use', 'malicious', 'chatbots', 'are', 'frequently', 'used', 'to', 'fill', 'chat', 'rooms', 'with', 'spam', 'and', 'advertisements', ',', 'by', 'mimicking', 'human', 'behaviour', 'and', 'conversations', 'or', 'to', 'entice', 'people', 'into', 'revealing', 'personal', 'information', ',', 'such', 'as', 'bank', 'account', 'numbers', '.', 'they', 'are', 'commonly', 'found', 'on', 'yahoo', '!', 'messenger', ',', 'windows', 'live', 'messenger', ',', 'aol', 'instant', 'messenger', 'and', 'other', 'instant', 'messaging', 'protocols', '.', 'there', 'has', 'also', 'been', 'a', 'published', 'report', 'of', 'a', 'chatbot', 'used', 'in', 'a', 'fake', 'personal', 'ad', 'on', 'a', 'dating', 'service', \"'s\", 'website', '.']\n"
     ]
    }
   ],
   "source": [
    "print(word_tokens)"
   ]
  },
  {
   "cell_type": "markdown",
   "metadata": {},
   "source": [
    "## Preprocessing\n"
   ]
  },
  {
   "cell_type": "code",
   "execution_count": 7,
   "metadata": {},
   "outputs": [],
   "source": [
    "lemmer = nltk.stem.WordNetLemmatizer()\n",
    "#WordNet is a semantically-oriented dictionary of English included in NLTK.\n",
    "def LemTokens(tokens):\n",
    "    return [lemmer.lemmatize(token) for token in tokens]\n",
    "remove_punct_dict = dict((ord(punct), None) for punct in string.punctuation)\n",
    "\n",
    "def LemNormalize(text):\n",
    "    return LemTokens(nltk.word_tokenize(text.lower().translate(remove_punct_dict)))"
   ]
  },
  {
   "cell_type": "markdown",
   "metadata": {},
   "source": [
    "## Keyword matching\n",
    "\n",
    "Next, we shall define a function for a greeting by the bot i.e if a user’s input is a greeting, the bot shall return a greeting response.ELIZA uses a simple keyword matching for greetings. We will utilize the same concept here."
   ]
  },
  {
   "cell_type": "code",
   "execution_count": 8,
   "metadata": {},
   "outputs": [],
   "source": [
    "GREETING_INPUTS = (\"hello\", \"hi\", \"greetings\", \"sup\", \"what's up\",\"hey\")\n",
    "GREETING_RESPONSES = [\"hi\", \"hey\", \"*nods*\", \"hi there\", \"hello\", \"I am glad! You are talking to me\"]\n",
    "def greeting(sentence):\n",
    " \n",
    "    for word in sentence.split():\n",
    "        if word.lower() in GREETING_INPUTS:\n",
    "            return random.choice(GREETING_RESPONSES)"
   ]
  },
  {
   "cell_type": "code",
   "execution_count": 9,
   "metadata": {},
   "outputs": [],
   "source": [
    "def response(user_response):\n",
    "    robo_response=''\n",
    "    sent_tokens.append(user_response)\n",
    "    TfidfVec = TfidfVectorizer(tokenizer=LemNormalize, stop_words='english')\n",
    "    tfidf = TfidfVec.fit_transform(sent_tokens)\n",
    "    vals = cosine_similarity(tfidf[-1], tfidf)\n",
    "    idx=vals.argsort()[0][-2]\n",
    "    flat = vals.flatten()\n",
    "    flat.sort()\n",
    "    req_tfidf = flat[-2]\n",
    "    if(req_tfidf==0):\n",
    "        robo_response=robo_response+\"I am sorry! I don't understand you\"\n",
    "        return robo_response\n",
    "    else:\n",
    "        robo_response = robo_response+sent_tokens[idx]\n",
    "        return robo_response\n",
    "\n"
   ]
  },
  {
   "cell_type": "code",
   "execution_count": 10,
   "metadata": {},
   "outputs": [
    {
     "name": "stdout",
     "output_type": "stream",
     "text": [
      "ROBO: My name is Robo. I will answer your queries about Chatbots. If you want to exit, type Bye!\n",
      "hi\n",
      "ROBO: hey\n",
      "what is chatbot\n",
      "ROBO: design\n",
      "the chatbot design is the process that defines the interaction between the user and the chatbot.the chatbot designer will define the chatbot personality, the questions that will be asked to the users, and the overall interaction.it can be viewed as a subset of the conversational design.\n",
      "alexa\n",
      "ROBO: the term \"chatterbot\" was originally coined by michael mauldin (creator of the first verbot, julia) in 1994 to describe these conversational programs.today, most chatbots are either accessed via virtual assistants such as google assistant and amazon alexa, via messaging apps such as facebook messenger or wechat, or via individual organizations' apps and websites.\n",
      "designing of chatbot\n",
      "ROBO: design\n",
      "the chatbot design is the process that defines the interaction between the user and the chatbot.the chatbot designer will define the chatbot personality, the questions that will be asked to the users, and the overall interaction.it can be viewed as a subset of the conversational design.\n",
      "bye\n",
      "ROBO: Bye! take care..\n"
     ]
    }
   ],
   "source": [
    "flag=True\n",
    "print(\"ROBO: My name is Robo. I will answer your queries about Chatbots. If you want to exit, type Bye!\")\n",
    "while(flag==True):\n",
    "    user_response = input()\n",
    "    user_response=user_response.lower()\n",
    "    if(user_response!='bye'):\n",
    "        if(user_response=='thanks' or user_response=='thank you' ):\n",
    "            flag=False\n",
    "            print(\"ROBO: You are welcome..\")\n",
    "        else:\n",
    "            if(greeting(user_response)!=None):\n",
    "                print(\"ROBO: \"+greeting(user_response))\n",
    "            else:\n",
    "                print(\"ROBO: \",end=\"\")\n",
    "                print(response(user_response))\n",
    "                sent_tokens.remove(user_response)\n",
    "    else:\n",
    "        flag=False\n",
    "        print(\"ROBO: Bye! take care..\")"
   ]
  },
  {
   "cell_type": "code",
   "execution_count": null,
   "metadata": {},
   "outputs": [],
   "source": []
  }
 ],
 "metadata": {
  "kernelspec": {
   "display_name": "Python 3",
   "language": "python",
   "name": "python3"
  },
  "language_info": {
   "codemirror_mode": {
    "name": "ipython",
    "version": 3
   },
   "file_extension": ".py",
   "mimetype": "text/x-python",
   "name": "python",
   "nbconvert_exporter": "python",
   "pygments_lexer": "ipython3",
   "version": "3.8.8"
  }
 },
 "nbformat": 4,
 "nbformat_minor": 2
}
